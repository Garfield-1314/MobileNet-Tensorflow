{
 "cells": [
  {
   "cell_type": "code",
   "execution_count": 1,
   "metadata": {},
   "outputs": [],
   "source": [
    "# Jupyter Notebook - 代码\n",
    "\n",
    "# 导入必要的库\n",
    "import matplotlib.pyplot as plt\n",
    "import numpy as np\n",
    "import os,shutil\n",
    "import tensorflow as tf\n",
    "import seaborn as sns\n",
    "from tqdm import tqdm\n",
    "import datetime\n",
    "import tensorflow_model_optimization as tfmot\n",
    "from lib import AU\n",
    "# 设定日志级别\n",
    "tf.get_logger().setLevel('ERROR')\n",
    "\n",
    "# 🔹 超参数\n",
    "IMG_SIZE = (96, 96)\n",
    "AUTOTUNE = tf.data.AUTOTUNE\n",
    "IMG_SHAPE = IMG_SIZE + (3,)"
   ]
  },
  {
   "cell_type": "code",
   "execution_count": 2,
   "metadata": {},
   "outputs": [
    {
     "name": "stdout",
     "output_type": "stream",
     "text": [
      "成功删除目录: cache\n"
     ]
    }
   ],
   "source": [
    "# 检查缓存目录是否存在并删除\n",
    "folder = 'cache'\n",
    "\n",
    "if os.path.exists(folder) and os.path.isdir(folder):\n",
    "    try:\n",
    "        shutil.rmtree(folder)\n",
    "        print(f\"成功删除目录: {folder}\")\n",
    "    except Exception as e:\n",
    "        print(f\"删除失败，错误信息: {e}\")\n",
    "else:\n",
    "    print(f\"目录 '{folder}' 不存在\")"
   ]
  },
  {
   "cell_type": "markdown",
   "metadata": {},
   "source": [
    "阶段一"
   ]
  },
  {
   "cell_type": "code",
   "execution_count": 3,
   "metadata": {},
   "outputs": [
    {
     "name": "stdout",
     "output_type": "stream",
     "text": [
      "Found 200000 files belonging to 10 classes.\n",
      "Found 40000 files belonging to 10 classes.\n",
      "Class Names: ['0', '1', '2', '3', '4', '5', '6', '7', '8', '9']\n"
     ]
    }
   ],
   "source": [
    "# 🔹 数据集路径\n",
    "cache_dir = os.path.join('cache')\n",
    "os.makedirs(cache_dir, exist_ok=True)\n",
    "\n",
    "base_dir = './dataset'\n",
    "train_dir = os.path.join(base_dir, 'train')\n",
    "valid_dir = os.path.join(base_dir, 'val')\n",
    "\n",
    "BATCH_SIZE = 32\n",
    "# 🔹 加载数据集\n",
    "train_dataset_raw = tf.keras.preprocessing.image_dataset_from_directory(\n",
    "    train_dir, \n",
    "    # validation_split=0.2, \n",
    "    # subset=\"training\", \n",
    "    # seed=12,\n",
    "    batch_size=BATCH_SIZE, \n",
    "    image_size=IMG_SIZE)\n",
    "\n",
    "validation_dataset_raw = tf.keras.preprocessing.image_dataset_from_directory(\n",
    "    valid_dir, \n",
    "    # validation_split=0.2, \n",
    "    # subset=\"validation\", \n",
    "    # seed=12,\n",
    "    batch_size=BATCH_SIZE, \n",
    "    image_size=IMG_SIZE)\n",
    "\n",
    "class_names = train_dataset_raw.class_names\n",
    "print(\"Class Names:\", class_names)\n",
    "\n",
    "\n",
    "# 加载数据集\n",
    "train_dataset = (train_dataset_raw\n",
    "                 .map(AU.preprocess_image, num_parallel_calls=AUTOTUNE)\n",
    "                 .cache(os.path.join(cache_dir, 'train_cache1')) # 缓存到文件\n",
    "                 .shuffle(1000)\n",
    "                 .prefetch(AUTOTUNE))\n",
    "\n",
    "validation_dataset = (validation_dataset_raw\n",
    "                      .map(AU.preprocess_image, num_parallel_calls=AUTOTUNE)\n",
    "                      .cache(os.path.join(cache_dir, 'val_cache1'))\n",
    "                      .prefetch(AUTOTUNE))\n"
   ]
  },
  {
   "cell_type": "code",
   "execution_count": 4,
   "metadata": {},
   "outputs": [
    {
     "name": "stdout",
     "output_type": "stream",
     "text": [
      "Model: \"sequential_1\"\n",
      "_________________________________________________________________\n",
      " Layer (type)                Output Shape              Param #   \n",
      "=================================================================\n",
      " rescaling (Rescaling)       (None, 96, 96, 3)         0         \n",
      "                                                                 \n",
      " mobilenetv2_0.35_96 (Functi  (None, 1280)             410208    \n",
      " onal)                                                           \n",
      "                                                                 \n",
      " dropout (Dropout)           (None, 1280)              0         \n",
      "                                                                 \n",
      " dense (Dense)               (None, 10)                12810     \n",
      "                                                                 \n",
      "=================================================================\n",
      "Total params: 423,018\n",
      "Trainable params: 408,938\n",
      "Non-trainable params: 14,080\n",
      "_________________________________________________________________\n"
     ]
    }
   ],
   "source": [
    "# 🔹 构建模型\n",
    "\n",
    "base_model = tf.keras.applications.MobileNetV2(\n",
    "    input_shape=IMG_SHAPE, \n",
    "    include_top=False, \n",
    "    pooling = 'avg', \n",
    "    alpha=0.35, \n",
    "    weights='imagenet')\n",
    "\n",
    "model = tf.keras.Sequential([\n",
    "    tf.keras.layers.Rescaling(1./255),\n",
    "    base_model,\n",
    "    tf.keras.layers.Dropout(0.1),\n",
    "    tf.keras.layers.Dense(len(class_names), activation='softmax')\n",
    "])\n",
    "model.build((None, 96, 96, 3))\n",
    "model.summary()"
   ]
  },
  {
   "cell_type": "code",
   "execution_count": 5,
   "metadata": {},
   "outputs": [
    {
     "name": "stdout",
     "output_type": "stream",
     "text": [
      "Epoch 1/100\n",
      "6250/6250 [==============================] - 376s 57ms/step - loss: 0.3895 - accuracy: 0.8828 - val_loss: 0.0329 - val_accuracy: 0.9915\n",
      "Epoch 2/100\n",
      "6250/6250 [==============================] - 393s 62ms/step - loss: 0.0327 - accuracy: 0.9909 - val_loss: 0.0104 - val_accuracy: 0.9972\n",
      "Epoch 3/100\n",
      "6250/6250 [==============================] - 391s 61ms/step - loss: 0.0134 - accuracy: 0.9963 - val_loss: 0.0069 - val_accuracy: 0.9979\n",
      "Epoch 4/100\n",
      "6250/6250 [==============================] - 380s 60ms/step - loss: 0.0071 - accuracy: 0.9983 - val_loss: 0.0051 - val_accuracy: 0.9983\n",
      "Epoch 5/100\n",
      "6250/6250 [==============================] - 411s 64ms/step - loss: 0.0040 - accuracy: 0.9992 - val_loss: 0.0043 - val_accuracy: 0.9985\n",
      "Epoch 6/100\n",
      "6250/6250 [==============================] - 406s 64ms/step - loss: 0.0024 - accuracy: 0.9995 - val_loss: 0.0041 - val_accuracy: 0.9987\n",
      "Epoch 7/100\n",
      "6250/6250 [==============================] - 403s 63ms/step - loss: 0.0015 - accuracy: 0.9997 - val_loss: 0.0039 - val_accuracy: 0.9987\n",
      "Epoch 8/100\n",
      "6250/6250 [==============================] - 390s 61ms/step - loss: 9.3088e-04 - accuracy: 0.9998 - val_loss: 0.0039 - val_accuracy: 0.9988\n",
      "Epoch 9/100\n",
      "6250/6250 [==============================] - 397s 62ms/step - loss: 5.9349e-04 - accuracy: 0.9998 - val_loss: 0.0043 - val_accuracy: 0.9987\n",
      "Epoch 10/100\n",
      "6250/6250 [==============================] - 395s 62ms/step - loss: 3.4948e-04 - accuracy: 0.9999 - val_loss: 0.0043 - val_accuracy: 0.9988\n",
      "Epoch 11/100\n",
      "6250/6250 [==============================] - 392s 61ms/step - loss: 2.2380e-04 - accuracy: 0.9999 - val_loss: 0.0053 - val_accuracy: 0.9988\n",
      "Epoch 12/100\n",
      "6250/6250 [==============================] - 358s 56ms/step - loss: 1.6963e-04 - accuracy: 1.0000 - val_loss: 0.0053 - val_accuracy: 0.9987\n"
     ]
    }
   ],
   "source": [
    "# 编译模型\n",
    "lr_schedule = tf.keras.optimizers.schedules.ExponentialDecay(\n",
    "    initial_learning_rate=0.00001, decay_steps=len(train_dataset)*5, decay_rate=0.99, staircase=True)\n",
    "\n",
    "model.compile(optimizer=tf.keras.optimizers.Adam(learning_rate=lr_schedule),\n",
    "              loss=tf.keras.losses.SparseCategoricalCrossentropy(from_logits=False),\n",
    "              metrics=['accuracy'])\n",
    "\n",
    "early_stopping = tf.keras.callbacks.EarlyStopping(patience=5, restore_best_weights=True)\n",
    "\n",
    "history1 = model.fit(train_dataset,\n",
    "                    validation_data=validation_dataset,\n",
    "                    epochs=100, \n",
    "                    callbacks=[early_stopping]\n",
    "                    )\n"
   ]
  },
  {
   "cell_type": "markdown",
   "metadata": {},
   "source": [
    "阶段二"
   ]
  },
  {
   "cell_type": "code",
   "execution_count": null,
   "metadata": {},
   "outputs": [],
   "source": [
    "# 🔹 数据集路径\n",
    "\n",
    "cache_dir = os.path.join('cache')                                                                       \n",
    "os.makedirs(cache_dir, exist_ok=True)\n",
    "\n",
    "base_dir = './dataset'\n",
    "train_dir = os.path.join(base_dir, 'train2')\n",
    "valid_dir = os.path.join(base_dir, 'val')\n",
    "\n",
    "BATCH_SIZE = 128\n",
    "# 🔹 加载数据集\n",
    "train_dataset_raw = tf.keras.preprocessing.image_dataset_from_directory(\n",
    "    train_dir, \n",
    "    # validation_split=0.2, \n",
    "    # subset=\"training\", \n",
    "    # seed=12,\n",
    "    batch_size=BATCH_SIZE, \n",
    "    image_size=IMG_SIZE)\n",
    "\n",
    "validation_dataset_raw = tf.keras.preprocessing.image_dataset_from_directory(\n",
    "    valid_dir, \n",
    "    # validation_split=0.2, \n",
    "    # subset=\"validation\", \n",
    "    # seed=12,\n",
    "    batch_size=BATCH_SIZE, \n",
    "    image_size=IMG_SIZE)\n",
    "\n",
    "class_names = train_dataset_raw.class_names\n",
    "print(\"Class Names:\", class_names)\n",
    "\n",
    "\n",
    "# 加载数据集\n",
    "train_dataset = (train_dataset_raw\n",
    "                 .map(AU.preprocess_image, num_parallel_calls=AUTOTUNE)\n",
    "                 .cache(os.path.join(cache_dir, 'train_cache2')) # 缓存到文件\n",
    "                 .shuffle(1000)\n",
    "                 .prefetch(AUTOTUNE))\n",
    "\n",
    "validation_dataset = (validation_dataset_raw\n",
    "                      .map(AU.preprocess_image, num_parallel_calls=AUTOTUNE)\n",
    "                      .cache(os.path.join(cache_dir, 'val_cache2'))\n",
    "                      .prefetch(AUTOTUNE))\n"
   ]
  },
  {
   "cell_type": "code",
   "execution_count": null,
   "metadata": {},
   "outputs": [],
   "source": [
    "# 编译模型\n",
    "lr_schedule = tf.keras.optimizers.schedules.ExponentialDecay(\n",
    "    initial_learning_rate=0.00001, decay_steps=len(train_dataset)*5, decay_rate=0.99, staircase=True)\n",
    "\n",
    "model.compile(optimizer=tf.keras.optimizers.Adam(learning_rate=lr_schedule),\n",
    "              loss=tf.keras.losses.SparseCategoricalCrossentropy(from_logits=False),\n",
    "              metrics=['accuracy'])\n",
    "\n",
    "early_stopping = tf.keras.callbacks.EarlyStopping(patience=10, restore_best_weights=True)\n",
    "\n",
    "history2 = model.fit(train_dataset,\n",
    "                    validation_data=validation_dataset,\n",
    "                    epochs=200, \n",
    "                    callbacks=[early_stopping]\n",
    "                    )"
   ]
  },
  {
   "cell_type": "markdown",
   "metadata": {},
   "source": [
    "阶段三"
   ]
  },
  {
   "cell_type": "code",
   "execution_count": null,
   "metadata": {},
   "outputs": [],
   "source": [
    "# 🔹 数据集路径\n",
    "cache_dir = os.path.join('cache')\n",
    "os.makedirs(cache_dir, exist_ok=True)\n",
    "\n",
    "base_dir = './dataset'\n",
    "train_dir = os.path.join(base_dir, 'train3')\n",
    "valid_dir = os.path.join(base_dir, 'val')\n",
    "\n",
    "BATCH_SIZE = 128\n",
    "# 🔹 加载数据集\n",
    "train_dataset_raw = tf.keras.preprocessing.image_dataset_from_directory(\n",
    "    train_dir, \n",
    "    # validation_split=0.2, \n",
    "    # subset=\"training\", \n",
    "    # seed=12,\n",
    "    batch_size=BATCH_SIZE, \n",
    "    image_size=IMG_SIZE)\n",
    "\n",
    "validation_dataset_raw = tf.keras.preprocessing.image_dataset_from_directory(\n",
    "    valid_dir, \n",
    "    # validation_split=0.2, \n",
    "    # subset=\"validation\", \n",
    "    # seed=12,\n",
    "    batch_size=BATCH_SIZE, \n",
    "    image_size=IMG_SIZE)\n",
    "\n",
    "class_names = train_dataset_raw.class_names\n",
    "print(\"Class Names:\", class_names)\n",
    "\n",
    "\n",
    "# 加载数据集\n",
    "train_dataset = (train_dataset_raw\n",
    "                 .map(AU.preprocess_image, num_parallel_calls=AUTOTUNE)\n",
    "                 .cache(os.path.join(cache_dir, 'train_cache3')) # 缓存到文件\n",
    "                 .shuffle(1000)\n",
    "                 .prefetch(AUTOTUNE))\n",
    "\n",
    "validation_dataset = (validation_dataset_raw\n",
    "                      .map(AU.preprocess_image, num_parallel_calls=AUTOTUNE)\n",
    "                      .cache(os.path.join(cache_dir, 'val_cache3'))\n",
    "                      .prefetch(AUTOTUNE))\n"
   ]
  },
  {
   "cell_type": "code",
   "execution_count": null,
   "metadata": {},
   "outputs": [],
   "source": [
    "# 编译模型\n",
    "lr_schedule = tf.keras.optimizers.schedules.ExponentialDecay(\n",
    "    initial_learning_rate=0.00001, decay_steps=len(train_dataset)*5, decay_rate=0.99, staircase=True)\n",
    "\n",
    "model.compile(optimizer=tf.keras.optimizers.Adam(learning_rate=lr_schedule),\n",
    "              loss=tf.keras.losses.SparseCategoricalCrossentropy(from_logits=False),\n",
    "              metrics=['accuracy'])\n",
    "\n",
    "early_stopping = tf.keras.callbacks.EarlyStopping(patience=5, restore_best_weights=True)\n",
    "\n",
    "history3 = model.fit(train_dataset,\n",
    "                    validation_data=validation_dataset,\n",
    "                    epochs=100, \n",
    "                    callbacks=[early_stopping]\n",
    "                    )"
   ]
  },
  {
   "cell_type": "markdown",
   "metadata": {},
   "source": [
    "阶段四"
   ]
  },
  {
   "cell_type": "code",
   "execution_count": 6,
   "metadata": {},
   "outputs": [
    {
     "name": "stdout",
     "output_type": "stream",
     "text": [
      "Found 200000 files belonging to 10 classes.\n",
      "Found 40000 files belonging to 10 classes.\n",
      "Class Names: ['0', '1', '2', '3', '4', '5', '6', '7', '8', '9']\n"
     ]
    }
   ],
   "source": [
    "# 🔹 数据集路径\n",
    "cache_dir = os.path.join('cache')\n",
    "os.makedirs(cache_dir, exist_ok=True)\n",
    "\n",
    "base_dir = './dataset'\n",
    "train_dir = os.path.join(base_dir, 'train')\n",
    "valid_dir = os.path.join(base_dir, 'val')\n",
    "\n",
    "BATCH_SIZE = 32\n",
    "# 🔹 加载数据集\n",
    "train_dataset_raw = tf.keras.preprocessing.image_dataset_from_directory(\n",
    "    train_dir, \n",
    "    # validation_split=0.2, \n",
    "    # subset=\"training\", \n",
    "    # seed=12,\n",
    "    batch_size=BATCH_SIZE, \n",
    "    image_size=IMG_SIZE)\n",
    "\n",
    "validation_dataset_raw = tf.keras.preprocessing.image_dataset_from_directory(\n",
    "    valid_dir, \n",
    "    # validation_split=0.2, \n",
    "    # subset=\"validation\", \n",
    "    # seed=12,\n",
    "    batch_size=BATCH_SIZE, \n",
    "    image_size=IMG_SIZE)\n",
    "\n",
    "class_names = train_dataset_raw.class_names\n",
    "print(\"Class Names:\", class_names)\n",
    "\n",
    "\n",
    "# 加载数据集\n",
    "train_dataset = (train_dataset_raw\n",
    "                 .map(AU.preprocess_image_aug, num_parallel_calls=AUTOTUNE)\n",
    "                 .cache(os.path.join(cache_dir, 'train_cache4')) # 缓存到文件\n",
    "                 .shuffle(1000)\n",
    "                 .prefetch(AUTOTUNE))\n",
    "\n",
    "validation_dataset = (validation_dataset_raw\n",
    "                      .map(AU.preprocess_image, num_parallel_calls=AUTOTUNE)\n",
    "                      .cache(os.path.join(cache_dir, 'val_cache4'))\n",
    "                      .prefetch(AUTOTUNE))\n"
   ]
  },
  {
   "cell_type": "code",
   "execution_count": 7,
   "metadata": {},
   "outputs": [
    {
     "name": "stdout",
     "output_type": "stream",
     "text": [
      "Epoch 1/100\n",
      "6250/6250 [==============================] - 443s 68ms/step - loss: 0.0043 - accuracy: 0.9985 - val_loss: 0.0037 - val_accuracy: 0.9987\n",
      "Epoch 2/100\n",
      "6250/6250 [==============================] - 555s 87ms/step - loss: 0.0021 - accuracy: 0.9995 - val_loss: 0.0036 - val_accuracy: 0.9986\n",
      "Epoch 3/100\n",
      "6250/6250 [==============================] - 555s 87ms/step - loss: 0.0012 - accuracy: 0.9997 - val_loss: 0.0036 - val_accuracy: 0.9990\n",
      "Epoch 4/100\n",
      "6250/6250 [==============================] - 555s 87ms/step - loss: 7.3993e-04 - accuracy: 0.9998 - val_loss: 0.0035 - val_accuracy: 0.9988\n",
      "Epoch 5/100\n",
      "6250/6250 [==============================] - 554s 87ms/step - loss: 4.4620e-04 - accuracy: 0.9999 - val_loss: 0.0045 - val_accuracy: 0.9988\n",
      "Epoch 6/100\n",
      "6250/6250 [==============================] - 554s 87ms/step - loss: 3.6490e-04 - accuracy: 0.9999 - val_loss: 0.0053 - val_accuracy: 0.9984\n"
     ]
    }
   ],
   "source": [
    "# 编译模型\n",
    "lr_schedule = tf.keras.optimizers.schedules.ExponentialDecay(\n",
    "    initial_learning_rate=0.00001, decay_steps=len(train_dataset)*5, decay_rate=0.99, staircase=True)\n",
    "\n",
    "model.compile(optimizer=tf.keras.optimizers.Adam(learning_rate=lr_schedule),\n",
    "              loss=tf.keras.losses.SparseCategoricalCrossentropy(from_logits=False),\n",
    "              metrics=['accuracy'])\n",
    "\n",
    "# 训练第一阶段\n",
    "early_stopping = tf.keras.callbacks.EarlyStopping(patience=2, restore_best_weights=True)\n",
    "\n",
    "history4 = model.fit(train_dataset,\n",
    "                    validation_data=validation_dataset,\n",
    "                    epochs=100, \n",
    "                    callbacks=[early_stopping]\n",
    "                    )"
   ]
  },
  {
   "cell_type": "code",
   "execution_count": 8,
   "metadata": {},
   "outputs": [
    {
     "name": "stderr",
     "output_type": "stream",
     "text": [
      "WARNING:absl:Found untraced functions such as _jit_compiled_convolution_op, _jit_compiled_convolution_op, _jit_compiled_convolution_op, _jit_compiled_convolution_op, _jit_compiled_convolution_op while saving (showing 5 of 52). These functions will not be directly callable after loading.\n",
      "d:\\miniconda\\envs\\tf\\lib\\site-packages\\tensorflow\\lite\\python\\convert.py:766: UserWarning: Statistics for quantized inputs were expected, but not specified; continuing anyway.\n",
      "  warnings.warn(\"Statistics for quantized inputs were expected, but not \"\n",
      "Calibration: 100%|██████████| 500/500 [03:13<00:00,  2.59it/s]\n"
     ]
    },
    {
     "name": "stdout",
     "output_type": "stream",
     "text": [
      "TFLite模型已保存至: ./model/qat_model_20250414_2349.tflite\n"
     ]
    }
   ],
   "source": [
    "# 🔹 直接导出为TFLite格式 (无需保存H5)\n",
    "def representative_dataset():\n",
    "    # 从验证集取500个批次作为量化校准数据\n",
    "    for images, _ in tqdm(validation_dataset.take(500), desc=\"Calibration\"):\n",
    "        yield [tf.cast(images, tf.float32)]  # 输入需为浮点型\n",
    "\n",
    "converter = tf.lite.TFLiteConverter.from_keras_model(model)\n",
    "converter.optimizations = [tf.lite.Optimize.DEFAULT]\n",
    "converter.representative_dataset = representative_dataset\n",
    "converter.target_spec.supported_ops = [tf.lite.OpsSet.TFLITE_BUILTINS_INT8]\n",
    "converter.inference_input_type = tf.uint8   # 输入为uint8 (0-255)\n",
    "converter.inference_output_type = tf.uint8  # 输出为uint8类别索引\n",
    "\n",
    "tflite_model = converter.convert()\n",
    "\n",
    "output_dir = './model'\n",
    "os.makedirs(output_dir, exist_ok=True)  # 自动创建目录（如果不存在）\n",
    "# 保存带时间戳的TFLite模型\n",
    "timestamp = datetime.datetime.now().strftime(\"%Y%m%d_%H%M\")\n",
    "output_path = f'./model/qat_model_{timestamp}.tflite'\n",
    "with open(output_path, 'wb') as f:\n",
    "    f.write(tflite_model)\n",
    "\n",
    "print(f\"TFLite模型已保存至: {output_path}\")\n",
    "\n",
    "target_dir = \"model\"\n",
    "# 直接匹配当前目录下的 .h5 文件\n",
    "for file in os.listdir(target_dir):\n",
    "    if file.endswith(\".h5\"):\n",
    "        file_path = os.path.join(target_dir, file)\n",
    "        try:\n",
    "            os.remove(file_path)\n",
    "            print(f\"已删除: {file_path}\")\n",
    "        except Exception as e:\n",
    "            print(f\"删除失败 [{file_path}]: {e}\")"
   ]
  },
  {
   "cell_type": "code",
   "execution_count": 9,
   "metadata": {},
   "outputs": [
    {
     "name": "stdout",
     "output_type": "stream",
     "text": [
      "1250/1250 [==============================] - 41s 32ms/step\n"
     ]
    },
    {
     "data": {
      "image/png": "[encoded data removed]",
      "text/plain": [
       "<Figure size 800x600 with 2 Axes>"
      ]
     },
     "metadata": {},
     "output_type": "display_data"
    }
   ],
   "source": [
    "from sklearn.metrics import confusion_matrix\n",
    "# 混淆矩阵\n",
    "y_pred = np.argmax(model.predict(validation_dataset), axis=1)\n",
    "y_true = np.concatenate([labels.numpy() for _, labels in validation_dataset])\n",
    "\n",
    "cm = confusion_matrix(y_true, y_pred)\n",
    "plt.figure(figsize=(8, 6))\n",
    "sns.heatmap(cm, annot=True, cmap=\"Blues\", fmt=\"d\", \n",
    "            xticklabels=class_names, yticklabels=class_names)\n",
    "plt.xlabel(\"Predicted Label\")\n",
    "plt.ylabel(\"True Label\")\n",
    "plt.title(\"Confusion Matrix\")\n",
    "plt.show()"
   ]
  },
  {
   "cell_type": "code",
   "execution_count": null,
   "metadata": {},
   "outputs": [],
   "source": [
    "from lib import polt_improved\n",
    "\n",
    "stage_names = [\"history\"]\n",
    "history_list = [history1,history4]\n",
    "polt_improved.plot_combined_curves_improved(history_list)"
   ]
  }
 ],
 "metadata": {
  "kernelspec": {
   "display_name": "tf",
   "language": "python",
   "name": "python3"
  },
  "language_info": {
   "codemirror_mode": {
    "name": "ipython",
    "version": 3
   },
   "file_extension": ".py",
   "mimetype": "text/x-python",
   "name": "python",
   "nbconvert_exporter": "python",
   "pygments_lexer": "ipython3",
   "version": "3.8.20"
  }
 },
 "nbformat": 4,
 "nbformat_minor": 2
}
