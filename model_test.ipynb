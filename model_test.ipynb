{
 "cells": [
  {
   "cell_type": "code",
   "execution_count": null,
   "metadata": {},
   "outputs": [],
   "source": [
    "import tensorflow as tf\n",
    "import matplotlib.pyplot as plt\n",
    "import numpy as np\n",
    "import os\n",
    "from tqdm import tqdm"
   ]
  },
  {
   "cell_type": "code",
   "execution_count": null,
   "metadata": {},
   "outputs": [],
   "source": [
    "# 加载量化后的TFLite模型\n",
    "interpreter = tf.lite.Interpreter(model_path='./model/model_20250321_140406.tflite')\n",
    "interpreter.allocate_tensors()\n",
    "\n",
    "# 获取输入输出详细信息\n",
    "input_details = interpreter.get_input_details()\n",
    "output_details = interpreter.get_output_details()\n",
    "\n",
    "# 检查模型输入类型和尺寸\n",
    "expected_height = input_details[0]['shape'][1]\n",
    "expected_width = input_details[0]['shape'][2]\n",
    "input_dtype = input_details[0]['dtype']\n",
    "print(f\"模型输入尺寸: {expected_height}x{expected_width}, 数据类型: {input_dtype}\")\n"
   ]
  },
  {
   "cell_type": "code",
   "execution_count": null,
   "metadata": {},
   "outputs": [],
   "source": [
    "# 数据集路径\n",
    "test_dir = os.path.join('./dataset', 'test')  # 确保test目录存在\n",
    "\n",
    "# 超参数设置\n",
    "BATCH_SIZE = 1  # 适当调大batch size提升推理速度\n",
    "IMG_SIZE = (expected_height, expected_width)  # 使用模型期望的尺寸\n",
    "print(IMG_SIZE)\n",
    "# 加载完整测试集（无需split）\n",
    "test_dataset = tf.keras.preprocessing.image_dataset_from_directory(\n",
    "    test_dir,\n",
    "    batch_size=BATCH_SIZE,\n",
    "    image_size=IMG_SIZE,\n",
    "    shuffle=False  # 无需打乱顺序\n",
    ")\n",
    "class_names = test_dataset.class_names\n",
    "print(class_names)\n",
    "num_classes = len(class_names)"
   ]
  },
  {
   "cell_type": "code",
   "execution_count": null,
   "metadata": {},
   "outputs": [],
   "source": [
    "def preprocess_image(image):\n",
    "    \"\"\"根据模型需求预处理图像\"\"\"\n",
    "    # 量化模型通常需要uint8输入，若训练时已归一化则无需额外处理\n",
    "    if input_dtype == np.uint8:\n",
    "        return tf.cast(image, tf.uint8)\n",
    "    else:\n",
    "        # 若模型需要float输入，进行归一化（示例为除以255）\n",
    "        return tf.cast(image, tf.float32) / 255.0\n",
    "\n",
    "def predict_batch(images):\n",
    "    \"\"\"批量推理提升效率\"\"\"\n",
    "    # 预处理整个batch\n",
    "    processed_images = []\n",
    "    for img in images:\n",
    "        processed_images.append(preprocess_image(img))\n",
    "    input_data = np.array(processed_images, dtype=input_dtype)\n",
    "    \n",
    "    # 推理\n",
    "    interpreter.set_tensor(input_details[0]['index'], input_data)\n",
    "    interpreter.invoke()\n",
    "    return interpreter.get_tensor(output_details[0]['index'])\n",
    "\n",
    "# 初始化统计变量\n",
    "correct_predictions = np.zeros(num_classes)\n",
    "total_predictions = np.zeros(num_classes)"
   ]
  },
  {
   "cell_type": "code",
   "execution_count": null,
   "metadata": {},
   "outputs": [],
   "source": [
    "# 遍历测试集\n",
    "for images, labels in tqdm(test_dataset, desc=\"测试进度\"):\n",
    "    batch_preds = predict_batch(images)\n",
    "    predicted_labels = np.argmax(batch_preds, axis=1)\n",
    "    \n",
    "    # 更新统计\n",
    "    for true_label, pred_label in zip(labels.numpy(), predicted_labels):\n",
    "        total_predictions[true_label] += 1\n",
    "        if true_label == pred_label:\n",
    "            correct_predictions[true_label] += 1\n",
    "\n",
    "# 计算准确率（处理除零情况）\n",
    "class_accuracies = np.zeros_like(correct_predictions, dtype=np.float32)\n",
    "for i in range(num_classes):\n",
    "    if total_predictions[i] > 0:\n",
    "        class_accuracies[i] = correct_predictions[i] / total_predictions[i]\n",
    "    else:\n",
    "        class_accuracies[i] = 0.0\n",
    "class_accuracies_percentage = class_accuracies * 100 \n"
   ]
  },
  {
   "cell_type": "code",
   "execution_count": null,
   "metadata": {},
   "outputs": [],
   "source": [
    "# 绘制柱状图\n",
    "plt.figure(figsize=(12, 6))\n",
    "bars = plt.bar(class_names, class_accuracies_percentage, color='skyblue')\n",
    "\n",
    "# 添加数值标签\n",
    "for bar, acc in zip(bars, class_accuracies_percentage):\n",
    "    height = bar.get_height()\n",
    "    plt.text(bar.get_x() + bar.get_width()/2., height,\n",
    "             f'{acc:.1f}%',\n",
    "             ha='center', va='bottom')\n",
    "\n",
    "plt.xlabel('class')\n",
    "plt.ylabel('acc (%)')\n",
    "plt.xticks(rotation=45, ha='right')\n",
    "plt.ylim(0, 100)\n",
    "plt.grid(axis='y', linestyle='--', alpha=0.7)\n",
    "plt.tight_layout()  # 优化布局\n",
    "plt.show()\n",
    "\n",
    "print(\"\\n各类别准确率：\")\n",
    "for i in range(num_classes):\n",
    "    class_name = class_names[i].ljust(15)  # 对齐类名\n",
    "    acc = class_accuracies_percentage[i]\n",
    "    samples = int(total_predictions[i])\n",
    "    print(f\"  {class_name}: {acc:.2f}%  ({correct_predictions[i]}/{samples})\")\n",
    "\n",
    "# 计算整体准确率\n",
    "total_correct = np.sum(correct_predictions)\n",
    "total_samples = np.sum(total_predictions)\n",
    "overall_accuracy = (total_correct / total_samples) * 100 if total_samples > 0 else 0\n",
    "\n",
    "# 打印整体准确率（带醒目格式）\n",
    "print(\"\\n\\033[1;36m\" + \"-\" * 50)\n",
    "print(f\" 整体测试准确率: {overall_accuracy:.2f}%  ({total_correct}/{total_samples})\")\n",
    "print(\"-\" * 50 + \"\\033[0m\")"
   ]
  }
 ],
 "metadata": {
  "kernelspec": {
   "display_name": "tf",
   "language": "python",
   "name": "python3"
  },
  "language_info": {
   "codemirror_mode": {
    "name": "ipython",
    "version": 3
   },
   "file_extension": ".py",
   "mimetype": "text/x-python",
   "name": "python",
   "nbconvert_exporter": "python",
   "pygments_lexer": "ipython3",
   "version": "3.8.20"
  }
 },
 "nbformat": 4,
 "nbformat_minor": 2
}
